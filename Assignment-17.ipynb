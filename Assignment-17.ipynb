{
 "cells": [
  {
   "cell_type": "code",
   "execution_count": 1,
   "metadata": {},
   "outputs": [
    {
     "name": "stdout",
     "output_type": "stream",
     "text": [
      "Z Score : 3.2\n"
     ]
    }
   ],
   "source": [
    "#Problem Statement 1:\n",
    "#Blood glucose levels for obese patients have a mean of 100 with a standard deviation of\n",
    "#15. A researcher thinks that a diet high in raw cornstarch will have a positive effect on\n",
    "#blood glucose levels. A sample of 36 patients who have tried the raw cornstarch diet\n",
    "#have a mean glucose level of 108. Test the hypothesis that the raw cornstarch had an\n",
    "#effect or not.\n",
    "import math\n",
    "population_mean = 100\n",
    "population_std_dev=15\n",
    "num_sample = 36\n",
    "samp_mean = 108\n",
    "\n",
    "\n",
    "#1) : State the hypotheses. The population mean is 100.\n",
    "# H0:μ=100 ==> null hypothesis\n",
    "# H1:≠100  ==>   Research hypothesis / Alternate hypothesis\n",
    "\n",
    "#2) let’s assume  significance level as 5% (0.05).\n",
    "\n",
    "# This 5% is called Significance Level also known as alpha level (symbolized as α). \n",
    "\n",
    "\n",
    "#3 : Claculate Z Score\n",
    "z = (samp_mean - population_mean) / (population_std_dev /math.sqrt(num_sample))\n",
    "print(\"Z Score :\",z)\n",
    "\n",
    "# by looking at z- table and p-value associated with 3.20 is 0.9993 \n",
    "# The probability of having value less than 108 is 0.9993 and more than or equals to 108 is (1-0.9993)=0.0007.\n",
    "\n",
    "#4: Sice the probability of having mean glucose level more than or equals to 108  is 0.0007 which is  less than 0.05 \n",
    "#so we will reject the Null hypothesis i.e. there is raw cornstarch effect."
   ]
  },
  {
   "cell_type": "code",
   "execution_count": 3,
   "metadata": {},
   "outputs": [
    {
     "name": "stdout",
     "output_type": "stream",
     "text": [
      "Mu :  0.050000000000000044 Std :  0.07061869440877536\n",
      "Z_score(p1,p2) :  -0.7080278164104213\n"
     ]
    }
   ],
   "source": [
    "#Problem Statement 2:\n",
    "#\n",
    "#In one state, 52% of the voters are Republicans, and 48% are Democrats. \n",
    "#In a second state, 47% of the voters are Republicans, and 53% are Democrats. \n",
    "#Suppose a simple random sample of 100 voters are surveyed from each state. \n",
    "#What is the probability that the survey will show a greater percentage of Republican voters in the second state than in the first state?\n",
    "\n",
    "\n",
    "\n",
    "#let :-#let :-\n",
    "#R1 = the proportion of Republican voters in the first state\n",
    "#R2 = the proportion of Republican voters in the second state\n",
    "#p1 = the proportion of Republican voters in the sample from the first state\n",
    "#p2 = the proportion of Republican voters in the sample from the second state. \n",
    "\n",
    "#First state number of voters\n",
    "n1 = 100\n",
    "#second state number of voters\n",
    "n2 = 100\n",
    "\n",
    "R1 = 0.52\n",
    "#(1 - R1) = Q1\n",
    "Q1 = 0.48\n",
    "R2 = 0.47\n",
    "#(1 - R2) = Q2\n",
    "Q2 = 0.53\n",
    "\n",
    "\n",
    "mu =  R1 - R2\n",
    "\n",
    "#The standard deviation of the difference (std)\n",
    "std = math.sqrt(((R1 * Q1 ) / n1) + ((R2 * Q2) /n2))\n",
    "print(\"Mu : \",mu,\"Std : \",std)\n",
    "\n",
    "x=0\n",
    "#To find this probability, we need to transform the random variable (p1 - p2) into a z-score. \n",
    "#That transformation appears below.\n",
    "Z_p1_p2 = ( x - mu)/std\n",
    "\n",
    "print(\"Z_score(p1,p2) : \",Z_p1_p2)\n",
    "\n",
    "#From Z table we find that the probability of a z-score being -0.7082 or less is 0.24.\n",
    "\n",
    "#Therefore, the probability that the survey will show a greater percentage of Republican voters \n",
    "#in the second state than in the first state is 0.24."
   ]
  },
  {
   "cell_type": "code",
   "execution_count": 6,
   "metadata": {},
   "outputs": [
    {
     "name": "stdout",
     "output_type": "stream",
     "text": [
      "Z Score :  0.35406698564593303\n",
      "My Score is in the range 817 - 1235  with a  zscore 0.35\n"
     ]
    }
   ],
   "source": [
    "#Problem Statement 3:\n",
    "\n",
    "#You take the SAT and score 1100. \n",
    "#The mean score for the SAT is 1026 and the standard deviation is 209. \n",
    "#How well did you score on the test compared to the average test taker?\n",
    "\n",
    "\n",
    "#The z score tells you how many standard deviations from the mean your score is\n",
    "x = 1100 #\n",
    "mu = 1026 \n",
    "std = 209 \n",
    "z = ( x - mu)/std\n",
    "print(\"Z Score : \",z)\n",
    "#the above calculation shows that my score is 0.35 standard deviations above the mean\n",
    "print(\"My Score is in the range {} - {}  with a  zscore {:.2f}\".format(mu - std,mu + std,z))"
   ]
  },
  {
   "cell_type": "code",
   "execution_count": null,
   "metadata": {},
   "outputs": [],
   "source": []
  }
 ],
 "metadata": {
  "kernelspec": {
   "display_name": "Python 3",
   "language": "python",
   "name": "python3"
  },
  "language_info": {
   "codemirror_mode": {
    "name": "ipython",
    "version": 3
   },
   "file_extension": ".py",
   "mimetype": "text/x-python",
   "name": "python",
   "nbconvert_exporter": "python",
   "pygments_lexer": "ipython3",
   "version": "3.6.5"
  }
 },
 "nbformat": 4,
 "nbformat_minor": 2
}
